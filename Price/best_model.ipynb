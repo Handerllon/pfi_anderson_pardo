{
 "cells": [
  {
   "cell_type": "code",
   "execution_count": null,
   "metadata": {},
   "outputs": [],
   "source": [
    "# Obtenemos las variables de entorno\n",
    "\n",
    "import os\n",
    "from dotenv import load_dotenv\n",
    "\n",
    "PATH = os.getcwd()\n",
    "PATH = PATH.replace(\"/Price\", \"\")\n",
    "\n",
    "load_dotenv(PATH + \"/.env\")"
   ]
  },
  {
   "cell_type": "code",
   "execution_count": null,
   "metadata": {},
   "outputs": [],
   "source": [
    "import urllib.parse\n",
    "import certifi\n",
    "from pymongo.mongo_client import MongoClient\n",
    "import json\n",
    "import pandas as pd\n",
    "import os\n",
    "\n",
    "pd.set_option('display.max_columns', None)\n",
    "\n",
    "username = urllib.parse.quote_plus(os.getenv(\"MONGO_USERNAME\"))\n",
    "password = urllib.parse.quote_plus(os.getenv(\"MONGO_PASSWORD\"))\n",
    "\n",
    "uri = \"mongodb://{}:{}@{}:{}/?authSource={}&authMechanism={}\".format(username, password, os.getenv(\"MONGO_HOST\"),\n",
    "                                            os.getenv(\"MONGO_PORT\"), os.getenv(\"MONGO_DATABASE\"), \"SCRAM-SHA-1\")\n",
    "\n",
    "client = MongoClient(uri)"
   ]
  },
  {
   "cell_type": "code",
   "execution_count": null,
   "metadata": {},
   "outputs": [],
   "source": [
    "try:\n",
    "    client.admin.command('ping')\n",
    "    print(\"Pinged your deployment. You successfully connected to MongoDB!\")\n",
    "except Exception as e:\n",
    "    print(e)"
   ]
  },
  {
   "cell_type": "code",
   "execution_count": null,
   "metadata": {},
   "outputs": [],
   "source": [
    "db = client[os.getenv(\"MONGO_DATABASE\")]\n",
    "collection = db.PriceProduction\n",
    "\n",
    "# Debido a que el tipo de operación esta embebido en el campo \"attributes\" vamos a tener\n",
    "# que importar todo y filtrar luego\n",
    "\n",
    "properties = collection.find({})\n",
    "properties_list = list()\n",
    "\n",
    "for p in properties:\n",
    "    properties_list.append(p)\n",
    "\n",
    "print(len(properties_list))\n",
    "df = pd.DataFrame(properties_list)\n",
    "df.drop([\"_id\"], axis=1, inplace=True)\n",
    "\n",
    "pd.set_option('display.max_columns', None)"
   ]
  },
  {
   "cell_type": "code",
   "execution_count": null,
   "metadata": {},
   "outputs": [],
   "source": [
    "from sklearn.metrics import mean_squared_error\n",
    "\n",
    "# Tenemos varios outliers en relación a superficie de los departamentos\n",
    "\n",
    "df = df.loc[df.price > 150]\n",
    "df = df.loc[df.price < 5000]\n",
    "df = df.loc[df.surface_total > 15]\n",
    "df = df.loc[df.surface_total < 300]"
   ]
  },
  {
   "cell_type": "code",
   "execution_count": null,
   "metadata": {},
   "outputs": [],
   "source": [
    "from sklearn.model_selection import train_test_split\n",
    "y = df.price\n",
    "X = df.drop([\"price\"], axis=1)\n",
    "X_train, X_test, y_train, y_test = train_test_split(X, y, test_size = 0.3)"
   ]
  },
  {
   "cell_type": "code",
   "execution_count": null,
   "metadata": {},
   "outputs": [],
   "source": [
    "from sklearn.ensemble import GradientBoostingRegressor\n",
    "\n",
    "# Con resultados del CVGridSearch grande\n",
    "\n",
    "GBoost2 = GradientBoostingRegressor(n_estimators=1000, learning_rate=0.01,\n",
    "                                   max_depth=9, max_features='log2',\n",
    "                                   min_samples_leaf=2, min_samples_split=5,\n",
    "                                   loss='squared_error', random_state = 5, subsample=0.5)\n",
    "GBoost_model2 = GBoost2.fit(X_train, y_train)\n",
    "\n",
    "GBoost_pred2 = GBoost_model2.predict(X_test)\n",
    "print(\"RMSE score is: \" + str(mean_squared_error(y_test, GBoost_pred2, squared=False)))\n",
    "print(\"Model score is: \" + str(GBoost_model2.score(X_test, y_test)))"
   ]
  },
  {
   "cell_type": "code",
   "execution_count": null,
   "metadata": {},
   "outputs": [],
   "source": [
    "# Vamos a persistir el modelo que mejor nos dió\n",
    "\n",
    "import pickle\n",
    "from joblib import dump, load\n",
    "\n",
    "dump(GBoost_model2, 'Models/gboost_modelv2_3.joblib')"
   ]
  }
 ],
 "metadata": {
  "language_info": {
   "name": "python"
  }
 },
 "nbformat": 4,
 "nbformat_minor": 2
}
