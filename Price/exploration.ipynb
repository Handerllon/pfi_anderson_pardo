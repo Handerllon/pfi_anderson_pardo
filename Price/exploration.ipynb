{
 "cells": [
  {
   "attachments": {},
   "cell_type": "markdown",
   "metadata": {},
   "source": [
    "## Análisis de fuente\n",
    "\n",
    "\n",
    "# Archivos\n",
    "\n",
    "**monedas.csv**  \n",
    "Tiene únicamente las monedas que utiliza la plataforma, ARS y USD\n",
    "\n",
    "**ubicaciones.csv**  \n",
    "Tabla de ubicaciones genéricas, contiene las columnas  \n",
    "\n",
    "| XIntelID | Pais      | Estado                  | Localidad | Barrio   | Comuna  |\n",
    "|----------|-----------|-------------------------|-----------|----------|---------|\n",
    "| 13242    | Argentina | Bs.As. G.B.A Zona Norte | Tigre     | Nordelta | La Isla |\n",
    "\n",
    "**tipologías.csv**  \n",
    "Tipos de propiedades que hay en la plataforma, en cuanto a columnas solo interesa el *nombre* de la tipología. Por ejemplo, \"Casas\", \"Departamentos\", \"Cocheras\", etc.\n",
    "\n",
    "**medidas.csv**  \n",
    "Parecería ser la caracterización de un ambiente dentro de una propiedad, tiene un ID de tipología y un nombre, por ejemplo \"Living\", \"Comedor\", \"Baños\", etc.\n",
    "\n",
    "**inombiliarias.csv**  \n",
    "Tabla con información de la inmobiliaria que publica la propiedad, no nos interesará mucho para nuestro análisis.\n",
    "\n",
    "**caracteristicas.csv**  \n",
    "Listado de características que puede tener un inmueble. Vemos cosas como \"Acceso a Internet\", \"Aire acondicionado\", \"Gimnasio\", \"Pileta\", etc. Se podría considerar algunas de las características como las **ammenities** que tiene la propiedad. Podríamos a futuro separar cuales lo son y cuales no a mano, ya que son pocas\n",
    "\n",
    "**características_inmuebles.csv**  \n",
    "Tabla utilizada para la relacion muchos a muchos que tienen las características y los inmuebles.\n",
    "\n",
    "**operacion.csv**  \n",
    "Nos indica el tipo de operación de la propiedad, por ejemplo, si es para Alquiler, Venta, Alquiler Temporal, etc.\n",
    "\n",
    "**inmuebles.xlsx**  \n",
    "Archivo con todos los inmuebles publicados actualmente\n"
   ]
  },
  {
   "cell_type": "code",
   "execution_count": 427,
   "metadata": {},
   "outputs": [],
   "source": [
    "#python3 -m pip install <library>\n",
    "\n",
    "# MongoDB Atblas\n",
    "# username: uade-pfi\n",
    "# password: vHshDD0jA73LlHAW\n",
    "\n",
    "import pandas as pd\n",
    "import numpy as np\n",
    "\n",
    "pd.set_option('display.max_columns', None)\n",
    "\n",
    "#Importamos los distintos archivos que vamos a utilizar para generar el DataFrame final\n",
    "df_inmuebles = pd.read_excel(\"Source/cabaprop_julio_2023/inmuebles.xlsx\", converters={\n",
    "    \"id_ubicacion\": int,\n",
    "    \"id_moneda\": int,\n",
    "    \"id_operacion\": int,\n",
    "    \"id_tipologia\": int,\n",
    "    \"inmobiliaria_id\": int,\n",
    "    \"precio_dolar\": int,\n",
    "    \"precio_peso\": int,\n",
    "    \"ambientes\": int,\n",
    "    \"dormitorios\": int,\n",
    "    \"antiguedad\": int\n",
    "})\n"
   ]
  },
  {
   "cell_type": "code",
   "execution_count": 428,
   "metadata": {},
   "outputs": [],
   "source": [
    "import base64\n",
    "\n",
    "def decode_b64_string(row):\n",
    "    # Caso de campo vacío, va a ser None\n",
    "    if pd.isnull(row):\n",
    "        #print(row)\n",
    "        return row\n",
    "    sample = str(row)\n",
    "    sample = base64.b64decode(sample)\n",
    "    sample = sample.decode(\"utf-8\")\n",
    "    \n",
    "    return sample"
   ]
  },
  {
   "cell_type": "code",
   "execution_count": 429,
   "metadata": {},
   "outputs": [],
   "source": [
    "\n",
    "# Tenemos algunas filas con info en base64, hacemos un decode para tener el texto\n",
    "df_inmuebles.descripcion = df_inmuebles.descripcion.apply(decode_b64_string)\n",
    "df_inmuebles.title = df_inmuebles.title.apply(decode_b64_string)\n",
    "df_inmuebles.direccion = df_inmuebles.direccion.apply(decode_b64_string)"
   ]
  },
  {
   "cell_type": "code",
   "execution_count": 430,
   "metadata": {},
   "outputs": [],
   "source": [
    "# Removemos columnas que no nos van a importar para el análisis\n",
    "# Precio es precio_dolar con algunos ceros de mas, utilizamos precio_dolar y precio_peso directamente\n",
    "\n",
    "df_inmuebles.drop([\"created\", \"updated\", \"inmobiliaria_id\", \"precio\", \"dpto\", \"piso_1\", \"unidadesPiso\"], axis=1, inplace=True)\n",
    "df_inmuebles.rename(columns={\"id\": \"id_inmueble\"}, inplace=True)\n"
   ]
  },
  {
   "cell_type": "code",
   "execution_count": 445,
   "metadata": {},
   "outputs": [],
   "source": [
    "# Removemos filas que no nos van a servir\n",
    "\n",
    "# Inmuebles sin ubicación\n",
    "df_inmuebles = df_inmuebles.loc[pd.notnull(df_inmuebles[\"id_ubicacion\"])]\n",
    "\n",
    "# Inmuebles sin precio en pesos o dolares\n",
    "df_inmuebles = df_inmuebles.loc[pd.notnull(df_inmuebles[\"precio_dolar\"]) | pd.notnull(df_inmuebles[\"precio_peso\"])]\n",
    "\n",
    "# Inmuebles con precio 0 en pesos y dolares\n",
    "df_inmuebles = df_inmuebles.loc[(df_inmuebles[\"precio_dolar\"]!=0) | (df_inmuebles[\"precio_peso\"]!=0)]\n",
    "\n",
    "# Inmuebles con precios negativos\n",
    "df_inmuebles = df_inmuebles.loc[(df_inmuebles[\"precio_dolar\"]>=0) & (df_inmuebles[\"precio_peso\"]>=0)]"
   ]
  },
  {
   "attachments": {},
   "cell_type": "markdown",
   "metadata": {},
   "source": [
    "Vamos a ahora combinar esta tabla principal con las otras, para poder lograr tener un único dataframe con\n",
    "toda la información que necesitaremos para el modelo."
   ]
  },
  {
   "cell_type": "code",
   "execution_count": 432,
   "metadata": {},
   "outputs": [],
   "source": [
    "# Combinamos ubicación\n",
    "\n",
    "df_ubicacion = pd.read_csv(\"Source/cabaprop_julio_2023/ubicaciones.csv\")\n",
    "\n",
    "# Removemos algunas columnas que no nos importan\n",
    "df_ubicacion.drop([\"xintel_id\", \"updated\", \"created\"], axis=1, inplace=True)"
   ]
  },
  {
   "cell_type": "code",
   "execution_count": 433,
   "metadata": {},
   "outputs": [],
   "source": [
    "# Realizamos el Merge\n",
    "df_inmuebles_ubi = pd.merge(df_inmuebles, df_ubicacion, how=\"left\", left_on=\"id_ubicacion\", right_on=\"id\")\n",
    "\n",
    "# Removemos las columnas que no nos importan o las que son generadas por el merge\n",
    "df_inmuebles_ubi.drop([\"id_ubicacion\", \"id\"], axis=1, inplace=True)"
   ]
  },
  {
   "cell_type": "code",
   "execution_count": 434,
   "metadata": {},
   "outputs": [],
   "source": [
    "# Combinamos monedas, como ya tenemos en el set de datos precio Peso y Precio dolar, ya tenemmos la información ahí, por\n",
    "# lo que salteamos el merge\n",
    "\n",
    "df_inmuebles_ubi.drop([\"id_moneda\"], axis=1, inplace=True)"
   ]
  },
  {
   "cell_type": "code",
   "execution_count": 435,
   "metadata": {},
   "outputs": [],
   "source": [
    "# Combinamos operaciones, para ver el tipo de transacción\n",
    "\n",
    "df_operacion = pd.read_csv(\"Source/operacion.csv\")\n",
    "df_operacion.drop([\"updated\", \"created\"], axis=1, inplace=True)\n",
    "# Renombramos la columna para que se entienda mejor luego del merge\n",
    "df_operacion.rename(columns={\"name\": \"tipo_operacion\"}, inplace=True)\n"
   ]
  },
  {
   "cell_type": "code",
   "execution_count": 436,
   "metadata": {},
   "outputs": [],
   "source": [
    "# Realizamos el Merge\n",
    "df_inmuebles_ubi_op = pd.merge(df_inmuebles_ubi, df_operacion, how=\"left\", left_on=\"id_operacion\", right_on=\"id\")\n",
    "\n",
    "# Removemos las columnas que no nos importan o las que son generadas por el merge\n",
    "df_inmuebles_ubi_op.drop([\"id\", \"id_operacion\"], axis=1, inplace=True)"
   ]
  },
  {
   "cell_type": "code",
   "execution_count": 437,
   "metadata": {},
   "outputs": [],
   "source": [
    "# Combinamos tipologias\n",
    "\n",
    "df_tipologias = pd.read_csv(\"Source/cabaprop_julio_2023/tipologias.csv\")\n",
    "df_tipologias.drop([\"created\", \"updated\"], axis=1, inplace=True)\n",
    "df_tipologias.rename(columns={\"name\": \"tipo_propiedad\", \"tags\": \"amenities\"}, inplace=True)\n"
   ]
  },
  {
   "cell_type": "code",
   "execution_count": 438,
   "metadata": {},
   "outputs": [],
   "source": [
    "# Realizamos el Merge\n",
    "df_inmuebles_ubi_op_tip = pd.merge(df_inmuebles_ubi_op, df_tipologias, how=\"left\", left_on=\"id_tipologia\", right_on=\"id\")\n",
    "df_inmuebles_ubi_op_tip\n",
    "# Removemos las columnas que no nos importan o las que son generadas por el merge\n",
    "df_inmuebles_ubi_op_tip.drop([\"id\", \"id_tipologia\"], axis=1, inplace=True)"
   ]
  },
  {
   "cell_type": "code",
   "execution_count": 439,
   "metadata": {},
   "outputs": [],
   "source": [
    "# Nos queda características con características inmuebles. Esta info ya debería estar en amenities pero podriamos hacer un\n",
    "# doble check"
   ]
  },
  {
   "cell_type": "code",
   "execution_count": 440,
   "metadata": {},
   "outputs": [],
   "source": [
    "# Vamos a revisar la info que nos quedo para ver que encontramos\n",
    "\n",
    "df_final = df_inmuebles_ubi_op_tip.copy(deep=True)\n",
    "\n",
    "# Encontramos que tipo_propiedad es casi siempre lo mismo que subTipoPropiedad.\n",
    "# Vamos a quedarnos solo con una de esas columnas\n",
    "df_final.loc[df_final[\"subTipoPropiedad\"] == \"PH\", [\"subTipoPropiedad\"]] = \"PH\"\n",
    "df_final.loc[df_final[\"subTipoPropiedad\"] == \"DEPARTAMENTO\", [\"subTipoPropiedad\"]] = \"Departamentos\"\n",
    "\n",
    "df_final[\"tipo_propiedad\"].fillna(df_final[\"subTipoPropiedad\"], inplace=True)"
   ]
  },
  {
   "cell_type": "code",
   "execution_count": 441,
   "metadata": {},
   "outputs": [
    {
     "name": "stdout",
     "output_type": "stream",
     "text": [
      "(0, 28)\n"
     ]
    }
   ],
   "source": [
    "# Chequeamos que no nos queden vacios en tipo_propiedad que esten llenos en subTipoPropiedad y removemos la columna subTipo\n",
    "print(df_final[pd.isnull(df_final[\"tipo_propiedad\"]) & pd.notnull(df_final[\"subTipoPropiedad\"])].shape)\n",
    "df_final.drop([\"subTipoPropiedad\"], axis=1, inplace=True)"
   ]
  },
  {
   "cell_type": "code",
   "execution_count": 442,
   "metadata": {},
   "outputs": [
    {
     "name": "stdout",
     "output_type": "stream",
     "text": [
      "(4, 27)\n"
     ]
    }
   ],
   "source": [
    "# El tipo de propiedad es muy importante para nuestro análisis\n",
    "# Vamos a investigar la descripción de la propiedad para intentar inferir el tipo de la misma\n",
    "\n",
    "str_dptos = [\"Departamento\", \"Dpto\", \"Monoambiente\", \"DEPARTAMENTO\", \"DPTO\"]\n",
    "str_oficinas = [\"Oficina\", \"OFICINA\"]\n",
    "\n",
    "def analizar_tipo_propiedad(row):\n",
    "    if any([x in str(row) for x in str_dptos]):\n",
    "        return \"Departamentos\"\n",
    "    elif any([x in str(row) for x in str_oficinas]):\n",
    "        return \"Oficinas\"\n",
    "    elif pd.isnull(row):\n",
    "        return row\n",
    "    else:\n",
    "        return np.nan\n",
    "\n",
    "# Vamos a investigar tanto el titulo como la descripción de la propiedad para poder llenar mas info\n",
    "df_final.loc[pd.isnull(df_final[\"tipo_propiedad\"]), [\"tipo_propiedad\"]] = df_final[\"title\"].apply(analizar_tipo_propiedad)\n",
    "df_final.loc[pd.isnull(df_final[\"tipo_propiedad\"]), [\"tipo_propiedad\"]] = df_final[\"descripcion\"].apply(analizar_tipo_propiedad)\n",
    "\n",
    "# Luego de esto nos quedan solo 15, muchos de esos no teniendo ni titulo, ni descripción, ni info. Los removemos\n",
    "print(df_final[pd.isnull(df_final[\"tipo_propiedad\"])].shape) \n",
    "df_final = df_final[pd.notnull(df_final[\"tipo_propiedad\"])]"
   ]
  },
  {
   "cell_type": "code",
   "execution_count": 443,
   "metadata": {},
   "outputs": [
    {
     "name": "stdout",
     "output_type": "stream",
     "text": [
      "(24245, 27)\n",
      "['Venta' 'Alquiler' 'Alquiler Temporal' nan 'Permuta']\n"
     ]
    }
   ],
   "source": [
    "\n",
    "# Filtramos por argentina, ya que es nuestro scope\n",
    "df_final = df_final[df_final[\"pais\"] == \"Argentina\"]\n",
    "\n",
    "# Filtramos por capital federal, ya que es nuestro scope\n",
    "df_final = df_final[df_final[\"estado\"] == \"Capital Federal\"]\n",
    "\n",
    "# Nos quedamos únicamente con los departamentos, PH y casas ya que es nuestro foco inicial\n",
    "df_final = df_final[df_final[\"tipo_propiedad\"].isin([\"Departamentos\", \"PH\", \"Casas\"])]\n",
    "\n",
    "# Removemos las filas que no tienen ningun valor en las superficies\n",
    "df_final.drop(df_final[pd.isnull(df_final[\"superficie_total\"]) & pd.isnull(df_final[\"superficie_cubierta\"]) & pd.isnull(df_final[\"superficie_descubierta\"])].index, inplace=True)\n",
    "\n",
    "df_final.tipo_operacion.unique()\n",
    "print(df_final.shape)\n",
    "print(df_final.tipo_operacion.unique())\n",
    "\n",
    "df_final.loc[(df_final.tipo_operacion == \"Alquiler\") | (df_final.tipo_operacion == \"Alquiler Temporal\")].to_csv(\"source.csv\")"
   ]
  },
  {
   "cell_type": "code",
   "execution_count": 444,
   "metadata": {},
   "outputs": [],
   "source": [
    "#Agregar contador de caracteres en la descripción, para ser luego utilizado en la matriz de correlación"
   ]
  }
 ],
 "metadata": {
  "kernelspec": {
   "display_name": "Python 3",
   "language": "python",
   "name": "python3"
  },
  "language_info": {
   "codemirror_mode": {
    "name": "ipython",
    "version": 3
   },
   "file_extension": ".py",
   "mimetype": "text/x-python",
   "name": "python",
   "nbconvert_exporter": "python",
   "pygments_lexer": "ipython3",
   "version": "3.11.4"
  },
  "orig_nbformat": 4
 },
 "nbformat": 4,
 "nbformat_minor": 2
}
