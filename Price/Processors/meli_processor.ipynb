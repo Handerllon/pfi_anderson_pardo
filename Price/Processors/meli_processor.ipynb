{
 "cells": [
  {
   "attachments": {},
   "cell_type": "markdown",
   "metadata": {},
   "source": [
    "## Procesador de Datos Mercadolibre"
   ]
  },
  {
   "cell_type": "code",
   "execution_count": 1,
   "metadata": {},
   "outputs": [
    {
     "data": {
      "text/plain": [
       "True"
      ]
     },
     "execution_count": 1,
     "metadata": {},
     "output_type": "execute_result"
    }
   ],
   "source": [
    "# Obtenemos las variables de entorno\n",
    "\n",
    "import os\n",
    "from dotenv import load_dotenv\n",
    "\n",
    "PATH = os.getcwd()\n",
    "PATH = PATH.replace(\"/Price/Processors\", \"\")\n",
    "\n",
    "load_dotenv(PATH + \"/.env\")\n"
   ]
  },
  {
   "cell_type": "code",
   "execution_count": 16,
   "metadata": {},
   "outputs": [],
   "source": [
    "import pymongo\n",
    "import urllib.parse\n",
    "import certifi\n",
    "from pymongo.mongo_client import MongoClient\n",
    "import json\n",
    "import pandas as pd\n",
    "import requests\n",
    "import random\n",
    "\n",
    "pd.set_option('display.max_columns', None)\n",
    "\n",
    "username = urllib.parse.quote_plus(os.getenv(\"MONGO_USERNAME\"))\n",
    "password = urllib.parse.quote_plus(os.getenv(\"MONGO_PASSWORD\"))\n",
    "\n",
    "uri = \"mongodb://{}:{}@{}:{}/?authSource={}&authMechanism={}\".format(username, password, os.getenv(\"MONGO_HOST\"),\n",
    "                                            os.getenv(\"MONGO_PORT\"), os.getenv(\"MONGO_DATABASE\"), \"SCRAM-SHA-1\")\n",
    "\n",
    "client = MongoClient(uri)"
   ]
  },
  {
   "cell_type": "code",
   "execution_count": 17,
   "metadata": {},
   "outputs": [
    {
     "name": "stdout",
     "output_type": "stream",
     "text": [
      "Pinged your deployment. You successfully connected to MongoDB!\n"
     ]
    }
   ],
   "source": [
    "try:\n",
    "    client.admin.command('ping')\n",
    "    print(\"Pinged your deployment. You successfully connected to MongoDB!\")\n",
    "except Exception as e:\n",
    "    print(e)"
   ]
  },
  {
   "cell_type": "code",
   "execution_count": 18,
   "metadata": {},
   "outputs": [],
   "source": [
    "db = client[os.getenv(\"MONGO_DATABASE\")]"
   ]
  },
  {
   "cell_type": "code",
   "execution_count": 19,
   "metadata": {},
   "outputs": [],
   "source": [
    "meli_collection = db.MeliStaging\n",
    "\n",
    "# Debido a que el tipo de operación esta embebido en el campo \"attributes\" vamos a tener\n",
    "# que importar todo y filtrar luego\n",
    "\n",
    "properties = meli_collection.find({})"
   ]
  },
  {
   "cell_type": "code",
   "execution_count": 20,
   "metadata": {},
   "outputs": [],
   "source": [
    "properties_list = list()\n",
    "\n",
    "for p in properties:\n",
    "    properties_list.append(p)"
   ]
  },
  {
   "cell_type": "code",
   "execution_count": 21,
   "metadata": {},
   "outputs": [],
   "source": [
    "properties_df = pd.DataFrame(properties_list)"
   ]
  },
  {
   "cell_type": "code",
   "execution_count": 29,
   "metadata": {},
   "outputs": [],
   "source": [
    "processed_properties = list()\n",
    "\n",
    "for index, row in properties_df.iterrows():\n",
    "    \n",
    "    # No tenemos info de características y/o amenities en MELI por ahora. Serán todas Falso (0)\n",
    "    # por ahora\n",
    "\n",
    "    balcony, yard, rooftop, garage, amoblado, cancha_paddle, cancha_tennis, gimnasio, hidromasaje, laundry = 0, 0, 0, 0, 0, 0, 0, 0, 0, 0\n",
    "    microcine, parrilla, piscina, sala_de_juegos, sauna, solarium, spa, sum, garage_visitas = 0, 0, 0, 0, 0, 0, 0, 0, 0\n",
    "\n",
    "    # No se encuentra description en el objeto de Mercadolibre, aunque en el sitio existe\n",
    "    description = \"\"\n",
    "\n",
    "    centros_comerciales_cercanos, escuelas_cercanas, parques_cercanos = 0, 0, 0\n",
    "\n",
    "    title = row[\"title\"]\n",
    "\n",
    "    # Manejo de Precio dolar\n",
    "    if row[\"currency_id\"] == \"USD\":\n",
    "        price = int(row[\"price\"])\n",
    "    else:\n",
    "        res = requests.get(\"https://dolarapi.com/v1/dolares\")\n",
    "        valor_blue_compra = res.json()[1][\"compra\"]\n",
    "        price = int(row[\"price\"]) / int(valor_blue_compra)\n",
    "\n",
    "    # Manejo de Attributes, muchos ifs :(\n",
    "    # Inicializamos primero las variables para luego filtrar en caso de\n",
    "    # que no se encuentre info\n",
    "\n",
    "    antiquity = None\n",
    "    ambience, bedrooms, bathrooms = None, None, None\n",
    "    surface_covered, surface_total = 0, 0\n",
    "    neighborhood = None\n",
    "\n",
    "    # Aqui encontraremos los \"filtros\" de tipo de propiedad y operacion\n",
    "    # Vamos a guardar si debemos o no hacer un skip del agregado a la lista final\n",
    "    # en una variable\n",
    "    skip_row = None\n",
    "\n",
    "    for attribute in row[\"attributes\"]:\n",
    "        skip_row = False\n",
    "        if attribute[\"id\"] == \"BEDROOMS\":\n",
    "            bedrooms = int(attribute[\"value_name\"])\n",
    "        elif attribute[\"id\"] == \"FULL_BATHROOMS\":\n",
    "            bathrooms = int(attribute[\"value_name\"])\n",
    "        elif attribute[\"id\"] == \"ROOMS\":\n",
    "            ambience = int(attribute[\"value_name\"])\n",
    "        elif attribute[\"id\"] == \"TOTAL_AREA\":\n",
    "            try:\n",
    "                surface_total = float(attribute[\"value_name\"].replace(\" m²\", \"\"))\n",
    "            except ValueError:\n",
    "                skip_row = True\n",
    "        elif attribute[\"id\"] == \"COVERED_AREA\":\n",
    "            try:\n",
    "                surface_covered = float(attribute[\"value_name\"].replace(\" m²\", \"\"))\n",
    "            except ValueError:\n",
    "                skip_row = True\n",
    "        # Si no es un alquiler, skip\n",
    "        elif attribute[\"id\"] == \"OPERATION\":\n",
    "            if attribute[\"value_name\"] == \"Venta\" or attribute[\"value_name\"] == \"Alquiler temporal\":\n",
    "                skip_row = True\n",
    "        # Si es una ofi, skip\n",
    "        elif attribute[\"id\"] == \"PROPERTY_TYPE\":\n",
    "            if attribute[\"value_name\"] == \"Oficina\":\n",
    "                skip_row = True\n",
    "        elif attribute[\"id\"] == \"ITEM_CONDITION\":\n",
    "            if attribute[\"value_name\"] == \"Usado\":\n",
    "                antiquity = random.randint(10, 40)\n",
    "            else:\n",
    "                antiquity = random.randint(0,5)\n",
    "        elif attribute[\"id\"] == \"WITH_VIRTUAL_TOUR\":\n",
    "            pass\n",
    "        elif attribute[\"id\"] == \"OFFICES\":\n",
    "            pass\n",
    "        elif attribute[\"id\"] == \"HAS_TELEPHONE_LINE\":\n",
    "            pass\n",
    "        elif attribute[\"id\"] == \"HAS_AIR_CONDITIONING\":\n",
    "            pass\n",
    "        else:\n",
    "            print(\"New Attribute Found: \" + str(attribute[\"id\"]))\n",
    "\n",
    "    try:\n",
    "        neighborhood = row[\"location\"][\"neighborhood\"][\"name\"]\n",
    "    except KeyError:\n",
    "        # Esto significa que no tiene location, lo eliminamos\n",
    "        skip_row = True\n",
    "\n",
    "    if skip_row:\n",
    "        continue\n",
    "\n",
    "    if surface_covered > surface_total:\n",
    "        surface_total = surface_covered\n",
    "        \n",
    "    surface_uncovered = surface_total - surface_covered\n",
    "\n",
    "    processed_properties.append({\n",
    "        \"_id\": row[\"_id\"],\n",
    "        \"characteristincs_balcony\": balcony,\n",
    "        \"characteristincs_yard\": yard,\n",
    "        \"characteristincs_rooftop\": rooftop,\n",
    "        \"characteristincs_garage\": garage,\n",
    "        \"amenities_amoblado\": amoblado,\n",
    "        \"amenities_cancha_paddle\": cancha_paddle,\n",
    "        \"amenities_cancha_tenis\": cancha_tennis,\n",
    "        \"amenities_gimnasio\": gimnasio,\n",
    "        \"amenities_hidromasaje\": hidromasaje,\n",
    "        \"amenities_laundry\": laundry,\n",
    "        \"amenities_microcine\": microcine,\n",
    "        \"amenities_parrilla\": parrilla,\n",
    "        \"amenities_piscina\": piscina,\n",
    "        \"amenities_sala_de_juegos\": sala_de_juegos,\n",
    "        \"amenities_sauna\": sauna,\n",
    "        \"amenities_solarium\": solarium,\n",
    "        \"amenities_spa\": spa,\n",
    "        \"amenities_sum\": sum,\n",
    "        \"amenities_estacionamiento_visitas\": garage_visitas,\n",
    "        \"location_neighbourhood\": neighborhood,\n",
    "        \"antiquity\": antiquity,\n",
    "        \"description\": description,\n",
    "        \"title\": title,\n",
    "        \"price\": price,\n",
    "        \"ambience\": ambience,\n",
    "        \"bedrooms\": bedrooms,\n",
    "        \"bathrooms\": bathrooms,\n",
    "        \"surface_total\": surface_total,\n",
    "        \"centros_comerciales_cercanos\": centros_comerciales_cercanos,\n",
    "        \"parques_cercanos\": parques_cercanos,\n",
    "        \"escuelas_cercanas\": escuelas_cercanas\n",
    "        })"
   ]
  },
  {
   "cell_type": "code",
   "execution_count": 30,
   "metadata": {},
   "outputs": [],
   "source": [
    "proc_properties_df = pd.DataFrame(processed_properties)"
   ]
  },
  {
   "cell_type": "code",
   "execution_count": 31,
   "metadata": {},
   "outputs": [],
   "source": [
    "# Vamos a normalizar los nombres de las columnas (Barrios en particular) para que coincidan con cabaprop\n",
    "# La mayoría son iguales, pero no todas\n",
    "\n",
    "# Tomamos los barrios a cambiar\n",
    "with open(\"../Utils/barrios_meli.json\") as json_file:\n",
    "    barrios_meli = json.load(json_file)\n",
    "\n",
    "def change_neigh_name(value):\n",
    "    if value in list(barrios_meli.keys()):\n",
    "        return barrios_meli[value]\n",
    "    else:\n",
    "        return value\n",
    "\n",
    "proc_properties_df.location_neighbourhood = proc_properties_df.location_neighbourhood.apply(change_neigh_name)"
   ]
  },
  {
   "cell_type": "code",
   "execution_count": 32,
   "metadata": {},
   "outputs": [],
   "source": [
    "# Ahora que tenemos los nombres normalizados, podemos aplicar el one hot encoding\n",
    "\n",
    "# Debemos asegurar que el modelo, al ser entrenado, tenga todas las columnas que necesitamos. Independientemente que la información\n",
    "# venga de la fuente o no\n",
    "\n",
    "# Debido a esto, vamos a crear columnas del tipo OneHot Encoding para cada uno de los barrios\n",
    "with open(\"../Utils/barrios.json\") as json_file:\n",
    "    barrios = json.load(json_file)\n",
    "\n",
    "# Generamos columnas para cada uno de los barrios\n",
    "for neighborhood in barrios.values():\n",
    "    proc_properties_df[\"location_neighbourhood_\"+neighborhood] = 0\n",
    "\n",
    "# No nos queda otra que iterar para ir seteando en 1 el barrio correcto. Es poco performante pero es la unica opcion\n",
    "# Es como hacer un one hot encoding pero de forma manual.\n",
    "for index, row in proc_properties_df.iterrows():\n",
    "    # Obtenemos el nombre del barrio\n",
    "    #barrio = barrios[str(row[\"location_neighbourhood\"])]    \n",
    "    proc_properties_df.at[index, \"location_neighbourhood_\"+row[\"location_neighbourhood\"]] = 1\n",
    "\n",
    "proc_properties_df.drop([\"location_neighbourhood\"], axis=1, inplace=True)"
   ]
  },
  {
   "cell_type": "code",
   "execution_count": 33,
   "metadata": {},
   "outputs": [],
   "source": [
    "df_propiedades = proc_properties_df.copy(deep=True)"
   ]
  },
  {
   "cell_type": "code",
   "execution_count": 34,
   "metadata": {},
   "outputs": [],
   "source": [
    "# Hay muchas propiedades que figuran para ser alquiladas pero en realidad estan a la venta\n",
    "# Vamos a filtrar estos valores\n",
    "df_propiedades = df_propiedades.loc[~df_propiedades.title.str.contains(\"venta\")]\n",
    "df_propiedades = df_propiedades.loc[~df_propiedades.title.str.contains(\"Venta\")]"
   ]
  },
  {
   "cell_type": "code",
   "execution_count": 35,
   "metadata": {},
   "outputs": [],
   "source": [
    "# Veamos la distribución de precios, encontramos que había precios con 0, por lo que los borramos\n",
    "df_propiedades = df_propiedades.loc[df_propiedades.price > 50]\n",
    "df_propiedades = df_propiedades.loc[df_propiedades.price < 10000]\n"
   ]
  },
  {
   "cell_type": "code",
   "execution_count": 36,
   "metadata": {},
   "outputs": [],
   "source": [
    "# Vemos superficies con valor 0 y otras con espacios demasiado grandes, vamos a borrarlas\n",
    "# Vamos a usar 10 metros cuadrados como minimo. 1000 metros cuadrados como máximo\n",
    "df_propiedades = df_propiedades.loc[df_propiedades.surface_total > 10]\n",
    "df_propiedades = df_propiedades.loc[df_propiedades.surface_total < 1000]"
   ]
  },
  {
   "cell_type": "code",
   "execution_count": 37,
   "metadata": {},
   "outputs": [],
   "source": [
    "# Veamos como estan distribuidos los ambientes\n",
    "\n",
    "# Vamos a borrar las entradas que no tienen información de ambientes\n",
    "df_propiedades = df_propiedades.loc[df_propiedades.ambience > 0]\n",
    "df_propiedades = df_propiedades.loc[df_propiedades.ambience.notna()]"
   ]
  },
  {
   "cell_type": "code",
   "execution_count": 38,
   "metadata": {},
   "outputs": [],
   "source": [
    "# Veamos como estan distribuidos los cuartos\n",
    "\n",
    "df_propiedades.loc[(df_propiedades.bedrooms == 0) & (df_propiedades.ambience == 1), \"bedrooms\"] = 1\n",
    "df_propiedades.loc[(df_propiedades.bedrooms.isna()) & (df_propiedades.ambience == 1), \"bedrooms\"] = 1\n",
    "\n",
    "df_propiedades.loc[(df_propiedades.bedrooms == 0) & (df_propiedades.ambience == 2), \"bedrooms\"] = 1\n",
    "df_propiedades.loc[(df_propiedades.bedrooms.isna()) & (df_propiedades.ambience == 2), \"bedrooms\"] = 1\n",
    "\n",
    "# Vamos a borrar las entradas que no tienen información de cuartos\n",
    "df_propiedades = df_propiedades.loc[df_propiedades.bedrooms != 0]\n",
    "df_propiedades = df_propiedades.loc[df_propiedades.bedrooms.notna()]"
   ]
  },
  {
   "cell_type": "code",
   "execution_count": 39,
   "metadata": {},
   "outputs": [],
   "source": [
    "# Veamos como estan distribuidos los baños\n",
    "\n",
    "# Vamos a rellenar los nulos con 1\n",
    "df_propiedades['bathrooms'] = df_propiedades['bathrooms'].fillna(1)\n",
    "df_propiedades.loc[(df_propiedades.bathrooms == 0), \"bathrooms\"] = 1"
   ]
  },
  {
   "cell_type": "code",
   "execution_count": 40,
   "metadata": {},
   "outputs": [],
   "source": [
    "# Hay algunas con antiguedad en None, las quitamos del dataset\n",
    "df_propiedades = df_propiedades.loc[df_propiedades.antiquity.notna()]"
   ]
  },
  {
   "cell_type": "code",
   "execution_count": 41,
   "metadata": {},
   "outputs": [],
   "source": [
    "from pymongo.errors import DuplicateKeyError\n",
    "# Insertamos la información en nuestra DB final en mongo\n",
    "\n",
    "final_collection = db.PriceProduction\n",
    "\n",
    "data_to_insert = df_propiedades.to_dict(orient=\"records\")\n",
    "\n",
    "for data in data_to_insert:\n",
    "    try:\n",
    "        final_collection.insert_one(data)\n",
    "    # Esto significa que ya agregamos la propiedad antes, por lo que la actualizamos\n",
    "    except DuplicateKeyError as e:\n",
    "        target_id = data[\"_id\"]\n",
    "        res = final_collection.replace_one({\"_id\": target_id}, data)\n"
   ]
  }
 ],
 "metadata": {
  "kernelspec": {
   "display_name": "Python 3",
   "language": "python",
   "name": "python3"
  },
  "language_info": {
   "codemirror_mode": {
    "name": "ipython",
    "version": 3
   },
   "file_extension": ".py",
   "mimetype": "text/x-python",
   "name": "python",
   "nbconvert_exporter": "python",
   "pygments_lexer": "ipython3",
   "version": "3.11.4"
  },
  "orig_nbformat": 4,
  "vscode": {
   "interpreter": {
    "hash": "b0fa6594d8f4cbf19f97940f81e996739fb7646882a419484c72d19e05852a7e"
   }
  }
 },
 "nbformat": 4,
 "nbformat_minor": 2
}
