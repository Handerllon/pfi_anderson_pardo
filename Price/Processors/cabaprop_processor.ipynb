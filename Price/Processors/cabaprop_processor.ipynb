{
 "cells": [
  {
   "attachments": {},
   "cell_type": "markdown",
   "metadata": {},
   "source": [
    "## Procesador de datos CABAPROP"
   ]
  },
  {
   "cell_type": "code",
   "execution_count": 2,
   "metadata": {},
   "outputs": [
    {
     "name": "stdout",
     "output_type": "stream",
     "text": [
      "Pinged your deployment. You successfully connected to MongoDB!\n"
     ]
    }
   ],
   "source": [
    "import urllib.parse\n",
    "from pymongo.mongo_client import MongoClient\n",
    "import os\n",
    "import pandas as pd\n",
    "\n",
    "import os\n",
    "from dotenv import load_dotenv\n",
    "\n",
    "PATH = os.getcwd()\n",
    "PATH = PATH.replace(\"/Price/Processors\", \"\")\n",
    "\n",
    "load_dotenv(PATH + \"/.env\")\n",
    "\n",
    "pd.set_option('display.max_columns', None)\n",
    "\n",
    "username = urllib.parse.quote_plus(os.getenv(\"MONGO_USERNAME\"))\n",
    "password = urllib.parse.quote_plus(os.getenv(\"MONGO_PASSWORD\"))\n",
    "\n",
    "uri = \"mongodb://{}:{}@{}:{}/?authSource={}&authMechanism={}\".format(username, password, os.getenv(\"MONGO_HOST\"),\n",
    "                                            os.getenv(\"MONGO_PORT\"), os.getenv(\"MONGO_DATABASE\"), \"SCRAM-SHA-1\")\n",
    "\n",
    "client = MongoClient(uri)\n",
    "\n",
    "try:\n",
    "    client.admin.command('ping')\n",
    "    print(\"Pinged your deployment. You successfully connected to MongoDB!\")\n",
    "except Exception as e:\n",
    "    print(e)"
   ]
  },
  {
   "cell_type": "code",
   "execution_count": 45,
   "metadata": {},
   "outputs": [
    {
     "name": "stdout",
     "output_type": "stream",
     "text": [
      "2297\n"
     ]
    }
   ],
   "source": [
    "db = client[os.getenv(\"MONGO_DATABASE\")]\n",
    "cabaprop_collection = db.CabapropStaging\n",
    "\n",
    "# Debido a que el tipo de operación esta embebido en el campo \"attributes\" vamos a tener\n",
    "# que importar todo y filtrar luego\n",
    "\n",
    "operation_ids = [2,3]\n",
    "property_ids = [1,2,3]\n",
    "\n",
    "\n",
    "propiedades = cabaprop_collection.find({\n",
    "    \"operation_type\": {\"$in\": operation_ids},\n",
    "    \"property_type\": {\"$in\": property_ids}\n",
    "    })\n",
    "print(cabaprop_collection.count_documents({\n",
    "    \"operation_type\": {\"$in\": operation_ids},\n",
    "    \"property_type\": {\"$in\": property_ids}\n",
    "    }))"
   ]
  },
  {
   "cell_type": "code",
   "execution_count": 46,
   "metadata": {},
   "outputs": [
    {
     "data": {
      "text/plain": [
       "<pymongo.cursor.Cursor at 0x156e65410>"
      ]
     },
     "execution_count": 46,
     "metadata": {},
     "output_type": "execute_result"
    }
   ],
   "source": [
    "propiedades"
   ]
  },
  {
   "cell_type": "code",
   "execution_count": 47,
   "metadata": {},
   "outputs": [],
   "source": [
    "# Debido a que tenemos muchos objetos en la entrada y no necesitamos todos, vamos a\n",
    "# Realizar un loop para solo quedarnos con las cosas que necesitamos\n",
    "\n",
    "propiedades_list = list()\n",
    "\n",
    "len_propiedades = len(propiedades_list)\n",
    "# No todas las columnas nos van a importar, hay que pensar que esta es información\n",
    "# que vamos a pedirle luego a los usuarios para realizar la predicción.\n",
    "\n",
    "# Notar que este análisis se hizo en base de la matriz de correlación de las variables\n",
    "\n",
    "for p in propiedades:\n",
    "    try:\n",
    "        propiedades_list.append({\n",
    "            \"_id\": p[\"_id\"],\n",
    "            \"characteristincs_balcony\": p[\"characteristics\"][\"balcony\"][\"active\"],\n",
    "            \"characteristincs_yard\": p[\"characteristics\"][\"yard\"][\"active\"],\n",
    "            \"characteristincs_rooftop\": p[\"characteristics\"][\"rooftop\"][\"active\"],\n",
    "            \"characteristincs_garage\": p[\"characteristics\"][\"garages\"][\"active\"],\n",
    "            \"amenities_amoblado\": p[\"extras\"][\"adicionales\"][\"amoblado\"],\n",
    "            \"amenities_cancha_paddle\": p[\"extras\"][\"adicionales\"][\"cancha_paddle\"],\n",
    "            \"amenities_cancha_tenis\": p[\"extras\"][\"adicionales\"][\"cancha_tenis\"],\n",
    "            \"amenities_gimnasio\": p[\"extras\"][\"adicionales\"][\"gimnasio\"],\n",
    "            \"amenities_hidromasaje\": p[\"extras\"][\"adicionales\"][\"hidromasaje\"],\n",
    "            \"amenities_laundry\": p[\"extras\"][\"adicionales\"][\"laundry\"],\n",
    "            \"amenities_microcine\": p[\"extras\"][\"adicionales\"][\"microcine\"],\n",
    "            \"amenities_parrilla\": p[\"extras\"][\"adicionales\"][\"parrilla\"],\n",
    "            \"amenities_piscina\": p[\"extras\"][\"adicionales\"][\"piscina\"],\n",
    "            \"amenities_sala_de_juegos\": p[\"extras\"][\"adicionales\"][\"sala_de_juegos\"],\n",
    "            \"amenities_sauna\": p[\"extras\"][\"adicionales\"][\"sauna\"],\n",
    "            \"amenities_solarium\": p[\"extras\"][\"adicionales\"][\"solarium\"],\n",
    "            \"amenities_spa\": p[\"extras\"][\"adicionales\"][\"spa\"],\n",
    "            \"amenities_sum\": p[\"extras\"][\"adicionales\"][\"sum\"],\n",
    "            \"amenities_estacionamiento_visitas\": p[\"extras\"][\"adicionales\"][\"estacionamiento_visitas\"],\n",
    "            \"antiquity\": p[\"antiquity\"][\"years\"],\n",
    "            \"price\": p[\"price\"][\"total\"],\n",
    "            \"price_currency\": p[\"price\"][\"currency\"],\n",
    "            \"location_neighbourhood\": p[\"location\"][\"barrios\"][0],\n",
    "            \"ambience\": p[\"characteristics\"][\"ambience\"],\n",
    "            \"bedrooms\": p[\"characteristics\"][\"bedrooms\"],\n",
    "            \"bathrooms\": p[\"characteristics\"][\"bathrooms\"],\n",
    "            \"surface_total\": p[\"surface\"][\"totalSurface\"],\n",
    "            \"centros_comerciales_cercanos\": p[\"extras\"][\"adicionales\"][\"centros_comerciales_cercanos\"],\n",
    "            \"parques_cercanos\": p[\"extras\"][\"adicionales\"][\"parques_cercanos\"],\n",
    "            \"escuelas_cercanas\": p[\"extras\"][\"adicionales\"][\"escuelas_cercanas\"],\n",
    "            \"property_type\": p[\"property_type\"],\n",
    "            \"operation_type\": p[\"operation_type\"]\n",
    "        })\n",
    "    except Exception:\n",
    "        try: \n",
    "            propiedades_list.append({\n",
    "                \"_id\": p[\"_id\"],\n",
    "                \"characteristincs_balcony\": False,\n",
    "                \"characteristincs_yard\": False,\n",
    "                \"characteristincs_rooftop\": False,\n",
    "                \"characteristincs_garage\": False,\n",
    "                \"amenities_amoblado\": False,\n",
    "                \"amenities_cancha_paddle\": False,\n",
    "                \"amenities_cancha_tenis\": False,\n",
    "                \"amenities_gimnasio\": False,\n",
    "                \"amenities_hidromasaje\": False,\n",
    "                \"amenities_laundry\": False,\n",
    "                \"amenities_microcine\": False,\n",
    "                \"amenities_parrilla\": False,\n",
    "                \"amenities_piscina\": False,\n",
    "                \"amenities_sala_de_juegos\": False,\n",
    "                \"amenities_sauna\": False,\n",
    "                \"amenities_solarium\": False,\n",
    "                \"amenities_spa\": False,\n",
    "                \"amenities_sum\": False,\n",
    "                \"amenities_estacionamiento_visitas\": False,\n",
    "                \"antiquity\": p[\"antiquity\"][\"years\"],\n",
    "                \"price\": p[\"price\"][\"total\"],\n",
    "                \"price_currency\": p[\"price\"][\"currency\"],\n",
    "                \"location_neighbourhood\": p[\"location\"][\"barrios\"][0],\n",
    "                \"ambience\": p[\"characteristics\"][\"ambience\"],\n",
    "                \"bedrooms\": p[\"characteristics\"][\"bedrooms\"],\n",
    "                \"bathrooms\": p[\"characteristics\"][\"bathrooms\"],\n",
    "                \"surface_total\": p[\"surface\"][\"totalSurface\"],\n",
    "                \"centros_comerciales_cercanos\": p[\"extras\"][\"adicionales\"][\"centros_comerciales_cercanos\"],\n",
    "                \"parques_cercanos\": p[\"extras\"][\"adicionales\"][\"parques_cercanos\"],\n",
    "                \"escuelas_cercanas\": p[\"extras\"][\"adicionales\"][\"escuelas_cercanas\"],\n",
    "                \"property_type\": p[\"property_type\"],\n",
    "                \"operation_type\": p[\"operation_type\"]\n",
    "            })\n",
    "        except Exception:\n",
    "            continue"
   ]
  },
  {
   "cell_type": "code",
   "execution_count": 49,
   "metadata": {},
   "outputs": [],
   "source": [
    "import pandas as pd\n",
    "import numpy as np\n",
    "import json\n",
    "\n",
    "pd.set_option('display.max_columns', None)\n",
    "df_propiedades = pd.DataFrame(propiedades_list)"
   ]
  },
  {
   "cell_type": "code",
   "execution_count": 50,
   "metadata": {},
   "outputs": [],
   "source": [
    "df_propiedades.price = pd.to_numeric(df_propiedades.price, errors=\"coerce\")\n",
    "\n",
    "df_propiedades = df_propiedades.astype({\"price\": int, \"price\": int})"
   ]
  },
  {
   "cell_type": "code",
   "execution_count": 51,
   "metadata": {},
   "outputs": [],
   "source": [
    "# Primero que nada, sabemos que hay precios en pesos y dolares, por lo que debemos normalizar esta información\n",
    "\n",
    "# Obtenemos el precio del dolar\n",
    "import requests\n",
    "res = requests.get(\"https://dolarapi.com/v1/dolares/blue\")\n",
    "dolar_blue = res.json()[\"compra\"]\n",
    "\n",
    "def convertir_a_pesos(currency, precio):\n",
    "    if currency == 2:\n",
    "        return precio/dolar_blue\n",
    "    else:\n",
    "        return precio\n",
    "\n",
    "df_propiedades.price = df_propiedades.apply(lambda row: convertir_a_pesos(row[\"price_currency\"], row[\"price\"]), axis=1)\n",
    "\n",
    "# Borramos las columnas de Currency, ya que no las utiliazríamos mas\n",
    "df_propiedades.drop([\"price_currency\"], axis=1, inplace=True)\n",
    "\n"
   ]
  },
  {
   "cell_type": "code",
   "execution_count": 52,
   "metadata": {},
   "outputs": [],
   "source": [
    "# Encontramos precios con valores 0, 1, 10, etc\n",
    "# Vamos a tomar 50 dolares como el valor base para un alquiler\n",
    "# También hay outliers, precios demasiado altos para un alquiler\n",
    "df_propiedades = df_propiedades.loc[df_propiedades.price > 50]\n",
    "df_propiedades = df_propiedades.loc[df_propiedades.price < 10000]"
   ]
  },
  {
   "cell_type": "code",
   "execution_count": 53,
   "metadata": {},
   "outputs": [],
   "source": [
    "# Vemos superficies con valor 0 y otras con espacios demasiado grandes, vamos a borrarlas\n",
    "# Vamos a usar 10 metros cuadrados como minimo. 1000 metros cuadrados como máximo\n",
    "df_propiedades = df_propiedades.loc[df_propiedades.surface_total > 10]\n",
    "df_propiedades = df_propiedades.loc[df_propiedades.surface_total < 1000]"
   ]
  },
  {
   "cell_type": "code",
   "execution_count": 57,
   "metadata": {},
   "outputs": [],
   "source": [
    "# Veamos los barrios, aca tenemos muchos ID para los distintos barrios.\n",
    "# Estos vienen de barrios.ts\n",
    "\n",
    "# Debemos asegurar que el modelo, al ser entrenado, tenga todas las columnas que necesitamos. Independientemente que la información\n",
    "# venga de la fuente o no\n",
    "\n",
    "df_propiedades = df_propiedades.loc[df_propiedades.location_neighbourhood.notna()]\n",
    "\n",
    "# Debido a esto, vamos a crear columnas del tipo OneHot Encoding para cada uno de los barrios\n",
    "with open(\"../Utils/barrios.json\") as json_file:\n",
    "    barrios = json.load(json_file)\n",
    "\n",
    "# Generamos columnas para cada uno de los barrios\n",
    "for neighborhood in barrios.values():\n",
    "    df_propiedades[\"location_neighbourhood_\"+neighborhood] = 0\n",
    "\n",
    "# No nos queda otra que iterar para ir seteando en 1 el barrio correcto. Es poco performante pero es la unica opcion\n",
    "# Es como hacer un one hot encoding pero de forma manual.\n",
    "for index, row in df_propiedades.iterrows():\n",
    "    # Obtenemos el nombre del barrio\n",
    "    barrio = barrios[str(row[\"location_neighbourhood\"]).replace(\".0\",\"\")]    \n",
    "    df_propiedades.at[index, \"location_neighbourhood_\"+barrio] = 1\n",
    "\n",
    "df_propiedades.drop([\"location_neighbourhood\"], axis=1, inplace=True)"
   ]
  },
  {
   "cell_type": "code",
   "execution_count": 59,
   "metadata": {},
   "outputs": [],
   "source": [
    "# Veamos como estan distribuidos los ambientes\n",
    "\n",
    "# Vamos a borrar las entradas que no tienen información de ambientes\n",
    "df_propiedades = df_propiedades.loc[df_propiedades.ambience != 0]\n",
    "df_propiedades = df_propiedades.loc[df_propiedades.ambience.notna()]"
   ]
  },
  {
   "cell_type": "code",
   "execution_count": 60,
   "metadata": {},
   "outputs": [],
   "source": [
    "# Veamos como estan distribuidos los cuartos\n",
    "\n",
    "# Vamos a borrar las entradas que no tienen información de cuartos\n",
    "\n",
    "df_propiedades = df_propiedades.loc[df_propiedades.bedrooms != 0]\n",
    "df_propiedades = df_propiedades.loc[df_propiedades.bedrooms.notna()]"
   ]
  },
  {
   "cell_type": "code",
   "execution_count": 61,
   "metadata": {},
   "outputs": [],
   "source": [
    "# Veamos como estan distribuidos los baños\n",
    "\n",
    "# Vamos a rellenar los nulos con 1\n",
    "df_propiedades['bathrooms'] = df_propiedades['bathrooms'].fillna(1)"
   ]
  },
  {
   "cell_type": "code",
   "execution_count": 62,
   "metadata": {},
   "outputs": [],
   "source": [
    "df_propiedades.bathrooms = pd.to_numeric(df_propiedades.bathrooms, errors=\"coerce\")"
   ]
  },
  {
   "cell_type": "code",
   "execution_count": 63,
   "metadata": {},
   "outputs": [],
   "source": [
    "# Vamos a convertir las columnas True / False en 0 y 1 para que pueda ser utilizado en los modelos\n",
    "df_propiedades.replace({False: 0, True: 1}, inplace=True)"
   ]
  },
  {
   "cell_type": "code",
   "execution_count": 64,
   "metadata": {},
   "outputs": [],
   "source": [
    "df_final_test = df_propiedades.drop([\"property_type\", \"operation_type\"], axis=1)\n",
    "\n",
    "# Aplicamos OneHotEncoding de las variables que apliquen\n",
    "#df_final_test = pd.get_dummies(df_final_test)\n",
    "\n",
    "# Pasamos los true/false a 0,1 nuevamente\n",
    "df_final_test.replace({False: 0, True: 1}, inplace=True)\n",
    "\n",
    "# Antiguedad -100 la pasamos a 0\n",
    "df_final_test.loc[(df_final_test.antiquity==-100), [\"antiquity\"]] = 0"
   ]
  },
  {
   "cell_type": "code",
   "execution_count": 65,
   "metadata": {},
   "outputs": [],
   "source": [
    "from pymongo.errors import DuplicateKeyError\n",
    "# Insertamos la información en nuestra DB final en mongo\n",
    "\n",
    "final_collection = db.PriceProduction\n",
    "\n",
    "data_to_insert = df_final_test.to_dict(orient=\"records\")\n",
    "\n",
    "for data in data_to_insert:\n",
    "    try:\n",
    "        final_collection.insert_one(data)\n",
    "    # Esto significa que ya agregamos la propiedad antes, por lo que la actualizamos\n",
    "    except DuplicateKeyError as e:\n",
    "        target_id = data[\"_id\"]\n",
    "        res = final_collection.replace_one({\"_id\": target_id}, data)\n"
   ]
  }
 ],
 "metadata": {
  "kernelspec": {
   "display_name": "Python 3",
   "language": "python",
   "name": "python3"
  },
  "language_info": {
   "codemirror_mode": {
    "name": "ipython",
    "version": 3
   },
   "file_extension": ".py",
   "mimetype": "text/x-python",
   "name": "python",
   "nbconvert_exporter": "python",
   "pygments_lexer": "ipython3",
   "version": "3.11.4"
  },
  "orig_nbformat": 4,
  "vscode": {
   "interpreter": {
    "hash": "b0fa6594d8f4cbf19f97940f81e996739fb7646882a419484c72d19e05852a7e"
   }
  }
 },
 "nbformat": 4,
 "nbformat_minor": 2
}
