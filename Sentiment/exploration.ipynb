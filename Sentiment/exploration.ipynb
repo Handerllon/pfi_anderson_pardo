{
 "cells": [
  {
   "attachments": {},
   "cell_type": "markdown",
   "metadata": {},
   "source": [
    "# Analisis de sentimiento basado en titulos de notas\n",
    "\n",
    "Vamos a ver los feeds RSS y, a partir de los titulos de las notas, veremos el sentimiento alrededor del tema. Podremos luego compartir la noticia en si.\n",
    "\n",
    "- Clarin: https://www.clarin.com/rss/arq/\n",
    "- Pagina12: https://www.pagina12.com.ar/rss/secciones/el-pais/notas  \n",
    "https://www.pagina12.com.ar/rss/secciones/economia/notas  \n",
    "https://www.pagina12.com.ar/rss/portada  \n",
    "\n",
    "- Infobae: https://www.infobae.com/feeds/rss/"
   ]
  },
  {
   "attachments": {},
   "cell_type": "markdown",
   "metadata": {},
   "source": [
    "GET /api/v1/sentiment\n",
    "\n",
    "``` python\n",
    "\n",
    "{\n",
    "    result: \"Negative\"\n",
    "    examples: [\"https://www.clarin.com/arq/construccion/anos-vigencia-ley-alquileres-1-000-departamentos-oferta-capital_0_Uno1qarEkO.html\",\n",
    "    \"https://www.pagina12.com.ar/582649-luz-verde-en-el-senado-para-la-modificacion-de-la-ley-de-alq\",\n",
    "    \"https://www.infobae.com/politica/2023/08/23/ley-de-alquileres-con-los-votos-justos-juntos-por-el-cambio-negocia-modificaciones-para-poder-aprobar-su-proyecto/\"]\n",
    "}\n",
    "```"
   ]
  },
  {
   "cell_type": "code",
   "execution_count": 11,
   "metadata": {},
   "outputs": [
    {
     "name": "stderr",
     "output_type": "stream",
     "text": [
      "Some weights of the model checkpoint at cardiffnlp/twitter-roberta-base-sentiment-latest were not used when initializing RobertaForSequenceClassification: ['roberta.pooler.dense.weight', 'roberta.pooler.dense.bias']\n",
      "- This IS expected if you are initializing RobertaForSequenceClassification from the checkpoint of a model trained on another task or with another architecture (e.g. initializing a BertForSequenceClassification model from a BertForPreTraining model).\n",
      "- This IS NOT expected if you are initializing RobertaForSequenceClassification from the checkpoint of a model that you expect to be exactly identical (initializing a BertForSequenceClassification model from a BertForSequenceClassification model).\n"
     ]
    },
    {
     "name": "stdout",
     "output_type": "stream",
     "text": [
      "{'label': 'neutral', 'probability': {'negative': 0.02551235444843769, 'neutral': 0.8424240350723267, 'positive': 0.13206368684768677}}\n"
     ]
    }
   ],
   "source": [
    "import tweetnlp\n",
    "\n",
    "model = tweetnlp.Sentiment()\n",
    "result = model.sentiment(\"Ley de Alquileres: el kirchnerismo pidió una sesión para su reforma y los proyectos de campaña de Sergio Massa\", return_probability=True)\n",
    "print(str(result))"
   ]
  }
 ],
 "metadata": {
  "kernelspec": {
   "display_name": "Python 3",
   "language": "python",
   "name": "python3"
  },
  "language_info": {
   "codemirror_mode": {
    "name": "ipython",
    "version": 3
   },
   "file_extension": ".py",
   "mimetype": "text/x-python",
   "name": "python",
   "nbconvert_exporter": "python",
   "pygments_lexer": "ipython3",
   "version": "3.11.4"
  },
  "orig_nbformat": 4
 },
 "nbformat": 4,
 "nbformat_minor": 2
}
